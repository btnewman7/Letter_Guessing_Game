{
 "cells": [
  {
   "cell_type": "code",
   "execution_count": 1,
   "metadata": {},
   "outputs": [],
   "source": [
    "import random \n",
    "from IPython.display import clear_output\n",
    "\n",
    "word_list = ['object', 'oriented', 'program', 'flask', 'react', 'fakebook', 'numpys', 'pandas', 'stack', 'overflow', 'seaborn']\n",
    "\n",
    "class Word():\n",
    "    def __init__(self, word):\n",
    "        self.word = word\n",
    "        self.display = ['_' for x in range(len(word))]\n",
    "    \n",
    "    def displayboard(self):\n",
    "        print(' '.join(self.display))\n",
    "    \n",
    "    #GOALS:take input of a guess(string,letter) - return good or bad guess(boolean?)\n",
    "    def checker(self, guess):\n",
    "        if guess in self.word:\n",
    "            for i in range(len(self.word)):\n",
    "                if self.word[i] == guess:\n",
    "                    self.display[i] = guess\n",
    "            return True\n",
    "        return False\n",
    "    \n",
    "class Game(): \n",
    "    @classmethod\n",
    "    def show_instructions(self):\n",
    "        print(\n",
    "        \"\"\"\n",
    "        Get ready to guess some letters! If you dont guess all the letters within 7 incorrect tries, you're done for!\n",
    "        \"\"\")\n",
    "        print(\n",
    "        \"\"\"\n",
    "        WARNING: If you guess a number, it will count as an incorrect guess. Choose wisely.\n",
    "        \"\"\")\n",
    "        \n",
    "    @classmethod\n",
    "    def wordpicker(self):\n",
    "        aword = random.choice(word_list)\n",
    "        return Word(aword)\n",
    "    \n",
    "    @classmethod\n",
    "    def run(self):\n",
    "        Game.show_instructions()\n",
    "        hidden_word = Game.wordpicker()\n",
    "        hidden_word.displayboard()\n",
    "        incorrect_guesses_used = 0\n",
    "        while incorrect_guesses_used < 7:\n",
    "            if list(hidden_word.word) == hidden_word.display:\n",
    "                print('Congrats you guessed the word!')\n",
    "                print(f'You spelled out {hidden_word.word}')\n",
    "                break\n",
    "            #hidden_word.displayboard()\n",
    "            guess = input('What letter would you like to guess?')\n",
    "            if hidden_word.checker(guess):\n",
    "                hidden_word.displayboard()\n",
    "                for i in range(len(hidden_word.word)):\n",
    "                    if hidden_word.word[i] == guess:\n",
    "                        clear_output()\n",
    "                        hidden_word.displayboard()\n",
    "                        print (f'Number of Incorrect Guesses: {incorrect_guesses_used}')      \n",
    "            else:\n",
    "                print('Wrong. Guess again')\n",
    "                clear_output()\n",
    "                incorrect_guesses_used += 1\n",
    "                hidden_word.displayboard()\n",
    "                print (f'Number of Incorrect Guesses: {incorrect_guesses_used}')\n",
    "        #once you reach 7 guesses\n",
    "        if incorrect_guesses_used == 7:\n",
    "            print('You lost.')\n",
    "            print(f'The word was {hidden_word.word}')\n",
    "    "
   ]
  },
  {
   "cell_type": "code",
   "execution_count": 2,
   "metadata": {},
   "outputs": [
    {
     "name": "stdout",
     "output_type": "stream",
     "text": [
      "p a n d a s\n",
      "Number of Incorrect Guesses: 5\n",
      "Congrats you guessed the word!\n",
      "You spelled out pandas\n"
     ]
    }
   ],
   "source": [
    "Game.run()"
   ]
  },
  {
   "cell_type": "code",
   "execution_count": null,
   "metadata": {},
   "outputs": [],
   "source": []
  }
 ],
 "metadata": {
  "kernelspec": {
   "display_name": "Python 3",
   "language": "python",
   "name": "python3"
  },
  "language_info": {
   "codemirror_mode": {
    "name": "ipython",
    "version": 3
   },
   "file_extension": ".py",
   "mimetype": "text/x-python",
   "name": "python",
   "nbconvert_exporter": "python",
   "pygments_lexer": "ipython3",
   "version": "3.8.3"
  }
 },
 "nbformat": 4,
 "nbformat_minor": 4
}
